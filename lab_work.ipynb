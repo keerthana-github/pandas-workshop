{
 "cells": [
  {
   "cell_type": "markdown",
   "id": "4d0a87d0",
   "metadata": {},
   "source": [
    "[Download Data](https://www.kaggle.com/competitions/playground-series-s4e10/data)"
   ]
  },
  {
   "cell_type": "code",
   "execution_count": 1,
   "id": "30478d76",
   "metadata": {},
   "outputs": [],
   "source": [
    "import pandas as pd\n",
    "\n",
    "df = pd.read_csv(\"lab/train.csv\")"
   ]
  },
  {
   "cell_type": "code",
   "execution_count": null,
   "id": "169e6c30",
   "metadata": {},
   "outputs": [],
   "source": [
    "# TO DO: Describe the Data"
   ]
  },
  {
   "cell_type": "code",
   "execution_count": 3,
   "id": "db44afc9",
   "metadata": {},
   "outputs": [],
   "source": [
    "# TO DO: Clean the data"
   ]
  },
  {
   "cell_type": "code",
   "execution_count": null,
   "id": "a68799cc",
   "metadata": {},
   "outputs": [],
   "source": [
    "# TO DO: Enrich the data - is there anything you can add?"
   ]
  },
  {
   "cell_type": "code",
   "execution_count": null,
   "id": "d47c5b43",
   "metadata": {},
   "outputs": [],
   "source": [
    "# TO DO: See how the data is correlated with itself"
   ]
  },
  {
   "cell_type": "code",
   "execution_count": null,
   "id": "3fe55a26",
   "metadata": {},
   "outputs": [],
   "source": [
    "# TO DO: Take a look at the summary statistics, what do they mean?"
   ]
  },
  {
   "cell_type": "code",
   "execution_count": null,
   "id": "b6f44cac",
   "metadata": {},
   "outputs": [],
   "source": [
    "# TO DO: Create data visualizations that meaningfully describe the data \n",
    "# and describe the relationships between them"
   ]
  }
 ],
 "metadata": {
  "kernelspec": {
   "display_name": "Python 3 (ipykernel)",
   "language": "python",
   "name": "python3"
  },
  "language_info": {
   "codemirror_mode": {
    "name": "ipython",
    "version": 3
   },
   "file_extension": ".py",
   "mimetype": "text/x-python",
   "name": "python",
   "nbconvert_exporter": "python",
   "pygments_lexer": "ipython3",
   "version": "3.8.5"
  }
 },
 "nbformat": 4,
 "nbformat_minor": 5
}
